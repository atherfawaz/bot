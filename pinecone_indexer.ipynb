{
 "cells": [
  {
   "cell_type": "code",
   "execution_count": null,
   "metadata": {},
   "outputs": [],
   "source": [
    "%pip install --upgrade --quiet devtools"
   ]
  },
  {
   "cell_type": "code",
   "execution_count": 1,
   "metadata": {},
   "outputs": [
    {
     "name": "stderr",
     "output_type": "stream",
     "text": [
      "/Users/afawaz/Documents/misc/ml/bot/.conda/lib/python3.11/site-packages/pinecone/data/index.py:1: TqdmWarning: IProgress not found. Please update jupyter and ipywidgets. See https://ipywidgets.readthedocs.io/en/stable/user_install.html\n",
      "  from tqdm.autonotebook import tqdm\n"
     ]
    },
    {
     "data": {
      "text/plain": [
       "True"
      ]
     },
     "execution_count": 1,
     "metadata": {},
     "output_type": "execute_result"
    }
   ],
   "source": [
    "from dotenv import load_dotenv\n",
    "import json\n",
    "from pinecone import Pinecone\n",
    "from sentence_transformers import SentenceTransformer\n",
    "\n",
    "load_dotenv()"
   ]
  },
  {
   "cell_type": "code",
   "execution_count": 4,
   "metadata": {},
   "outputs": [],
   "source": [
    "model = SentenceTransformer(\"sentence-transformers/all-mpnet-base-v2\", device=\"mps\")"
   ]
  },
  {
   "cell_type": "code",
   "execution_count": 6,
   "metadata": {},
   "outputs": [
    {
     "name": "stdout",
     "output_type": "stream",
     "text": [
      "Iteration: 0. Upserted: ~0\n",
      "Iteration: 1000. Upserted: ~400\n",
      "Iteration: 2000. Upserted: ~900\n",
      "Iteration: 3000. Upserted: ~1200\n",
      "Iteration: 4000. Upserted: ~1700\n",
      "Iteration: 5000. Upserted: ~2400\n",
      "Iteration: 6000. Upserted: ~2700\n",
      "Iteration: 7000. Upserted: ~3200\n",
      "Iteration: 8000. Upserted: ~3700\n",
      "Iteration: 9000. Upserted: ~4200\n",
      "Iteration: 10000. Upserted: ~4700\n",
      "Iteration: 11000. Upserted: ~5400\n",
      "Iteration: 12000. Upserted: ~6000\n",
      "Iteration: 13000. Upserted: ~6900\n",
      "Iteration: 14000. Upserted: ~7600\n",
      "Iteration: 15000. Upserted: ~8300\n",
      "Iteration: 16000. Upserted: ~9100\n",
      "Iteration: 17000. Upserted: ~9900\n",
      "Iteration: 18000. Upserted: ~10300\n",
      "Iteration: 19000. Upserted: ~10800\n",
      "Iteration: 20000. Upserted: ~11500\n",
      "Iteration: 21000. Upserted: ~11900\n",
      "Iteration: 22000. Upserted: ~12500\n",
      "Iteration: 23000. Upserted: ~13200\n",
      "Iteration: 24000. Upserted: ~13800\n",
      "Iteration: 25000. Upserted: ~14400\n",
      "Iteration: 26000. Upserted: ~15200\n",
      "Iteration: 27000. Upserted: ~15800\n",
      "Iteration: 28000. Upserted: ~16400\n",
      "Iteration: 29000. Upserted: ~16800\n",
      "Iteration: 30000. Upserted: ~17400\n",
      "Iteration: 31000. Upserted: ~17600\n",
      "Iteration: 32000. Upserted: ~18200\n",
      "Iteration: 33000. Upserted: ~18700\n",
      "Iteration: 34000. Upserted: ~19300\n",
      "Iteration: 35000. Upserted: ~19900\n",
      "Iteration: 36000. Upserted: ~20600\n",
      "Iteration: 37000. Upserted: ~21100\n",
      "Iteration: 38000. Upserted: ~21400\n",
      "Iteration: 39000. Upserted: ~21400\n",
      "Iteration: 40000. Upserted: ~21900\n",
      "Iteration: 41000. Upserted: ~22200\n",
      "Iteration: 42000. Upserted: ~22800\n",
      "Iteration: 43000. Upserted: ~23500\n",
      "Iteration: 44000. Upserted: ~24200\n",
      "Iteration: 45000. Upserted: ~24800\n",
      "Iteration: 46000. Upserted: ~25300\n",
      "Iteration: 47000. Upserted: ~25900\n",
      "Iteration: 48000. Upserted: ~26600\n"
     ]
    }
   ],
   "source": [
    "filename = \"./Chatbot_data_filtered-V2.json\"\n",
    "\n",
    "pc = Pinecone()\n",
    "index = pc.Index(\"catalog-v2\")\n",
    "i = j = 0\n",
    "batch_size = 100\n",
    "upserted_count = 0\n",
    "texts, ids, embeds, metadata = [], [], [], []\n",
    "with open(filename) as file:\n",
    "    for line in file:\n",
    "        if j % 1000 == 0:\n",
    "            print(f\"Iteration: {j}. Upserted: ~{upserted_count}\")\n",
    "        if i % batch_size == 0 and texts:\n",
    "            embeds = model.encode(texts)\n",
    "            upserted_count += len(embeds)\n",
    "            index.upsert(vectors=zip(ids, embeds, metadata))\n",
    "            texts, ids, embeds, metadata = [], [], [], []\n",
    "        doc = json.loads(line.rstrip())\n",
    "        if (\n",
    "            doc.get(\"title_en\")\n",
    "            and doc.get(\"description\")\n",
    "            and doc.get(\"seller_price\")\n",
    "            and doc.get(\"image_url\")\n",
    "            and doc.get(\"product_url\")\n",
    "        ):\n",
    "            specs = doc.get(\"specifications\") or []\n",
    "            if not specs:\n",
    "                continue\n",
    "            specs_text = \"\"\n",
    "            specs = json.loads(specs)\n",
    "            model_year = None\n",
    "            for spec in specs:\n",
    "                k = spec.get(\"name\")\n",
    "                v = spec.get(\"value\")\n",
    "                specs_text += f\"{k} : {v}\" + \"\\n\"\n",
    "                if k == \"Model Year\":\n",
    "                    model_year = v\n",
    "            ids.append(doc[\"offer_code\"])\n",
    "            title = doc.get(\"title_en\", \"Unavailable\")\n",
    "            offer_price = doc.get(\"seller_price\", \"Unavailable\")\n",
    "            description = doc.get(\"description\", \"Unavailable\")\n",
    "            highlights = doc.get(\"highlights\", \"Unavailable\")\n",
    "            is_returnable = doc.get(\"is_returnable\", \"Unavailable\")\n",
    "            rating = doc.get(\"product_rating\", \"Unavailable\")\n",
    "            warranty = doc.get(\"warranty\", \"Unavailable\")\n",
    "            on_deal = doc.get('deal_flag') or 0\n",
    "            m = {\n",
    "                \"sku\": doc.get(\"sku_config\"),\n",
    "                \"image_url\": doc.get(\"image_url\") + \"?width=240\",\n",
    "                \"product_url\": f\"https://www.noon.com/uae-en/xyz/{doc.get('sku_config')}/p/\",\n",
    "                \"title\": title,\n",
    "                \"price\": offer_price,\n",
    "                \"rating\": rating,\n",
    "            }\n",
    "            text = f\"\"\"\n",
    "                Title: {title}. \n",
    "                Price: {offer_price}. \n",
    "                Description: {description}. \n",
    "                Highlights: {highlights}. \n",
    "                is_returnable: {is_returnable}. \n",
    "                rating: {rating}. \n",
    "                warranty: {warranty}. \n",
    "                is_on_deal: {on_deal}.\n",
    "                specifications: {specs_text}.\n",
    "            \"\"\".strip().replace(\"\\n\", \" \")\n",
    "            if model_year:\n",
    "                m[\"model_year\"] = model_year\n",
    "                text += f\"\"\"\n",
    "                model_year: {model_year}\n",
    "                \"\"\"\n",
    "            m[\"text\"] = text\n",
    "            metadata.append(m)\n",
    "            texts.append(text)\n",
    "            i += 1\n",
    "        j += 1"
   ]
  },
  {
   "cell_type": "code",
   "execution_count": null,
   "metadata": {},
   "outputs": [],
   "source": []
  }
 ],
 "metadata": {
  "kernelspec": {
   "display_name": "Python 3",
   "language": "python",
   "name": "python3"
  },
  "language_info": {
   "codemirror_mode": {
    "name": "ipython",
    "version": 3
   },
   "file_extension": ".py",
   "mimetype": "text/x-python",
   "name": "python",
   "nbconvert_exporter": "python",
   "pygments_lexer": "ipython3",
   "version": "3.11.7"
  }
 },
 "nbformat": 4,
 "nbformat_minor": 2
}
