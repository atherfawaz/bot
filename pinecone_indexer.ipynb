{
 "cells": [
  {
   "cell_type": "code",
   "execution_count": 3,
   "metadata": {},
   "outputs": [
    {
     "name": "stdout",
     "output_type": "stream",
     "text": [
      "Note: you may need to restart the kernel to use updated packages.\n"
     ]
    }
   ],
   "source": [
    "%pip install --upgrade --quiet devtools"
   ]
  },
  {
   "cell_type": "code",
   "execution_count": 9,
   "metadata": {},
   "outputs": [
    {
     "data": {
      "text/plain": [
       "True"
      ]
     },
     "execution_count": 9,
     "metadata": {},
     "output_type": "execute_result"
    }
   ],
   "source": [
    "from dotenv import load_dotenv\n",
    "import json\n",
    "from pinecone import Pinecone\n",
    "from sentence_transformers import SentenceTransformer\n",
    "\n",
    "load_dotenv()"
   ]
  },
  {
   "cell_type": "code",
   "execution_count": 12,
   "metadata": {},
   "outputs": [],
   "source": [
    "model = SentenceTransformer(\"sentence-transformers/all-mpnet-base-v2\", device=\"mps\")"
   ]
  },
  {
   "cell_type": "code",
   "execution_count": 18,
   "metadata": {},
   "outputs": [
    {
     "name": "stdout",
     "output_type": "stream",
     "text": [
      "Iteration: 0. Upserted: ~0\n"
     ]
    },
    {
     "ename": "AttributeError",
     "evalue": "'list' object has no attribute 'items'",
     "output_type": "error",
     "traceback": [
      "\u001b[0;31m---------------------------------------------------------------------------\u001b[0m",
      "\u001b[0;31mAttributeError\u001b[0m                            Traceback (most recent call last)",
      "Cell \u001b[0;32mIn[18], line 33\u001b[0m\n\u001b[1;32m     31\u001b[0m specs_text \u001b[38;5;241m=\u001b[39m \u001b[38;5;124m\"\u001b[39m\u001b[38;5;124m\"\u001b[39m\n\u001b[1;32m     32\u001b[0m specs \u001b[38;5;241m=\u001b[39m json\u001b[38;5;241m.\u001b[39mloads(specs)\n\u001b[0;32m---> 33\u001b[0m \u001b[38;5;28;01mfor\u001b[39;00m spec \u001b[38;5;129;01min\u001b[39;00m \u001b[43mspecs\u001b[49m\u001b[38;5;241;43m.\u001b[39;49m\u001b[43mitems\u001b[49m():\n\u001b[1;32m     34\u001b[0m     \u001b[38;5;28;01mfor\u001b[39;00m k, v \u001b[38;5;129;01min\u001b[39;00m spec\u001b[38;5;241m.\u001b[39miems():\n\u001b[1;32m     35\u001b[0m         k \u001b[38;5;241m=\u001b[39m spec\u001b[38;5;241m.\u001b[39mget(\u001b[38;5;124m\"\u001b[39m\u001b[38;5;124mname\u001b[39m\u001b[38;5;124m\"\u001b[39m)\n",
      "\u001b[0;31mAttributeError\u001b[0m: 'list' object has no attribute 'items'"
     ]
    }
   ],
   "source": [
    "filename = \"./Chatbot_data_filtered-V2.json\"\n",
    "pc = Pinecone()\n",
    "index = pc.Index(\"catalog-v2-768\")\n",
    "\n",
    "i = j = 0\n",
    "batch_size = 100\n",
    "upserted_count = 0\n",
    "texts, ids, embeds, metadata = [], [], [], []\n",
    "with open(filename) as file:\n",
    "    for line in file:\n",
    "        if j % 1000 == 0:\n",
    "            print(f\"Iteration: {j}. Upserted: ~{upserted_count}\")\n",
    "        if i % batch_size == 0 and texts:\n",
    "            embeds = model.encode(texts)\n",
    "            upserted_count += len(embeds)\n",
    "            index.upsert(vectors=zip(ids, embeds, metadata))\n",
    "            texts, ids, embeds, metadata = [], [], [], []\n",
    "\n",
    "        doc = json.loads(line.rstrip())\n",
    "        if (\n",
    "            doc.get(\"title_en\")\n",
    "            and doc.get(\"description\")\n",
    "            and doc.get(\"seller_price\")\n",
    "            and doc.get(\"image_url\")\n",
    "            and doc.get(\"product_url\")\n",
    "            and doc.get(\"is_returnable\")\n",
    "        ):\n",
    "            specs = doc.get(\"specifications\") or []\n",
    "            if not specs:\n",
    "                continue\n",
    "            specs_text = \"\"\n",
    "            specs = json.loads(specs)\n",
    "            for spec in specs.items():\n",
    "                for k, v in spec.iems():\n",
    "                    k = spec.get(\"name\")\n",
    "                    v = spec.get(\"value\")\n",
    "                    specs_text += f\"{k} : {v}\" + \"\\n\"\n",
    "            ids.append(doc[\"offer_code\"])\n",
    "            m = {\n",
    "                \"sku\": doc.get(\"sku_config\"),\n",
    "                \"title\": doc.get(\"title_en\"),\n",
    "                \"image_url\": doc.get(\"image_url\"),\n",
    "                \"product_url\": f\"https://www.{doc['product_url']}\",\n",
    "                \"specs\": specs_text\n",
    "            }\n",
    "            title = doc.get(\"title_en\", \"Unavailable\")\n",
    "            offer_price = doc.get(\"seller_price\", \"Unavailable\")\n",
    "            description = doc.get(\"description\", \"Unavailable\")\n",
    "            highlights = doc.get(\"highlights\", \"Unavailable\")\n",
    "            is_returnable = doc.get(\"is_returnable\", \"Unavailable\")\n",
    "            rating = doc.get(\"product_rating\", \"Unavailable\")\n",
    "            warranty = doc.get(\"warranty\", \"Unavailable\")\n",
    "            image_url = doc.get(\"image_url\") + \"?width=240\"\n",
    "            text = (\n",
    "                f\"Title: {title}\\n\"\n",
    "                f\"Price: {offer_price}\\n\"\n",
    "                f\"Description: {description}.\\n\"\n",
    "                f\"Highlights: {highlights}.\\n\"\n",
    "                f\"is_returnable: {is_returnable}\\n\"\n",
    "                f\"rating: {rating}\"\n",
    "                f\"warranty: {warranty}\"\n",
    "                f\"is_on_deal: {doc.get('deal_flag')} or 'False'\"\n",
    "            )\n",
    "            m[\"text\"] = text\n",
    "            metadata.append({**m})\n",
    "            texts.append(text)\n",
    "            i += 1\n",
    "        j += 1"
   ]
  }
 ],
 "metadata": {
  "kernelspec": {
   "display_name": "Python 3",
   "language": "python",
   "name": "python3"
  },
  "language_info": {
   "codemirror_mode": {
    "name": "ipython",
    "version": 3
   },
   "file_extension": ".py",
   "mimetype": "text/x-python",
   "name": "python",
   "nbconvert_exporter": "python",
   "pygments_lexer": "ipython3",
   "version": "3.11.7"
  }
 },
 "nbformat": 4,
 "nbformat_minor": 2
}
