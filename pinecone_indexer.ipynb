{
 "cells": [
  {
   "cell_type": "code",
   "execution_count": 3,
   "metadata": {},
   "outputs": [
    {
     "name": "stdout",
     "output_type": "stream",
     "text": [
      "Note: you may need to restart the kernel to use updated packages.\n"
     ]
    }
   ],
   "source": [
    "%pip install --upgrade --quiet devtools"
   ]
  },
  {
   "cell_type": "code",
   "execution_count": 1,
   "metadata": {},
   "outputs": [
    {
     "name": "stderr",
     "output_type": "stream",
     "text": [
      "/Users/afawaz/Documents/misc/ml/bot/.conda/lib/python3.11/site-packages/pinecone/data/index.py:1: TqdmWarning: IProgress not found. Please update jupyter and ipywidgets. See https://ipywidgets.readthedocs.io/en/stable/user_install.html\n",
      "  from tqdm.autonotebook import tqdm\n"
     ]
    },
    {
     "data": {
      "text/plain": [
       "True"
      ]
     },
     "execution_count": 1,
     "metadata": {},
     "output_type": "execute_result"
    }
   ],
   "source": [
    "from dotenv import load_dotenv\n",
    "import json\n",
    "from pinecone import Pinecone\n",
    "from sentence_transformers import SentenceTransformer\n",
    "\n",
    "load_dotenv()"
   ]
  },
  {
   "cell_type": "code",
   "execution_count": 2,
   "metadata": {},
   "outputs": [],
   "source": [
    "model = SentenceTransformer(\"sentence-transformers/all-mpnet-base-v2\", device=\"mps\")"
   ]
  },
  {
   "cell_type": "code",
   "execution_count": 3,
   "metadata": {},
   "outputs": [
    {
     "name": "stdout",
     "output_type": "stream",
     "text": [
      "Iteration: 0. Upserted: ~0\n",
      "Iteration: 1000. Upserted: ~400\n",
      "Iteration: 2000. Upserted: ~700\n",
      "Iteration: 3000. Upserted: ~1100\n",
      "Iteration: 4000. Upserted: ~1600\n",
      "Iteration: 5000. Upserted: ~1900\n",
      "Iteration: 6000. Upserted: ~2400\n",
      "Iteration: 7000. Upserted: ~2800\n",
      "Iteration: 8000. Upserted: ~3100\n",
      "Iteration: 9000. Upserted: ~3500\n",
      "Iteration: 10000. Upserted: ~4000\n",
      "Iteration: 11000. Upserted: ~4700\n",
      "Iteration: 12000. Upserted: ~5200\n",
      "Iteration: 13000. Upserted: ~6000\n",
      "Iteration: 14000. Upserted: ~6500\n",
      "Iteration: 15000. Upserted: ~6900\n",
      "Iteration: 16000. Upserted: ~7300\n",
      "Iteration: 17000. Upserted: ~7800\n",
      "Iteration: 18000. Upserted: ~8200\n",
      "Iteration: 19000. Upserted: ~8700\n",
      "Iteration: 20000. Upserted: ~9200\n",
      "Iteration: 21000. Upserted: ~9700\n",
      "Iteration: 22000. Upserted: ~10300\n",
      "Iteration: 23000. Upserted: ~10800\n",
      "Iteration: 24000. Upserted: ~11200\n",
      "Iteration: 25000. Upserted: ~11500\n",
      "Iteration: 26000. Upserted: ~11800\n",
      "Iteration: 27000. Upserted: ~12000\n",
      "Iteration: 28000. Upserted: ~12500\n",
      "Iteration: 29000. Upserted: ~12900\n",
      "Iteration: 30000. Upserted: ~13400\n",
      "Iteration: 31000. Upserted: ~13900\n",
      "Iteration: 32000. Upserted: ~14200\n",
      "Iteration: 33000. Upserted: ~14300\n",
      "Iteration: 34000. Upserted: ~14500\n",
      "Iteration: 35000. Upserted: ~14900\n",
      "Iteration: 36000. Upserted: ~15300\n",
      "Iteration: 37000. Upserted: ~15800\n",
      "Iteration: 38000. Upserted: ~16100\n"
     ]
    }
   ],
   "source": [
    "filename = \"./Chatbot_data_filtered.json\"\n",
    "pc = Pinecone()\n",
    "index = pc.Index(\"catalog-768\")\n",
    "\n",
    "i = j = 0\n",
    "batch_size = 100\n",
    "upserted_count = 0\n",
    "texts, ids, embeds, metadata = [], [], [], []\n",
    "with open(filename) as file:\n",
    "    for line in file:\n",
    "        if j % 1000 == 0:\n",
    "            print(f\"Iteration: {j}. Upserted: ~{upserted_count}\")\n",
    "        if i % batch_size == 0 and texts:\n",
    "            embeds = model.encode(texts)\n",
    "            upserted_count += len(embeds)\n",
    "            index.upsert(vectors=zip(ids, embeds, metadata))\n",
    "            texts, ids, embeds, metadata = [], [], [], []\n",
    "\n",
    "        doc = json.loads(line.rstrip())\n",
    "        if (\n",
    "            doc.get(\"title_en\")\n",
    "            and doc.get(\"description\")\n",
    "            and doc.get(\"highlights\")\n",
    "            and doc.get(\"offer_price\")\n",
    "            and doc.get(\"msrp\")\n",
    "            and doc.get(\"image_url\")\n",
    "            and doc.get(\"product_url\")\n",
    "            and doc.get(\"is_returnable\")\n",
    "            and doc.get(\"seller_rating\")\n",
    "        ):\n",
    "            ids.append(f'{doc[\"offer_code\"]}_{i}')\n",
    "            m = {**doc}\n",
    "            del m[\"description\"]\n",
    "            del m[\"title_en\"]\n",
    "            del m[\"highlights\"]\n",
    "            m[\"product_url\"] = f\"https://www.{doc['product_url']}\"\n",
    "            title = doc.get(\"title_en\", \"Unavailable\")\n",
    "            offer_price = doc.get(\"offer_price\", doc.get(\"msrp\", \"Unavailable\"))\n",
    "            description = doc.get(\"description\", \"Unavailable\")\n",
    "            highlights = doc.get(\"highlights\", \"Unavailable\")\n",
    "            is_returnable = doc.get(\"is_returnable\", \"Unavailable\")\n",
    "            seller_rating = doc.get(\"seller_rating\", \"Unavailable\")\n",
    "            text = (\n",
    "                f\"Title: {title}\\n\"\n",
    "                f\"Price: {offer_price}\\n\"\n",
    "                f\"Description: {description}.\\n\"\n",
    "                f\"Highlights: {highlights}.\\n\"\n",
    "                f\"returnable: {is_returnable}\\n\"\n",
    "                f\"seller_rating: {seller_rating}\"\n",
    "            )\n",
    "            m[\"text\"] = text\n",
    "            metadata.append({**m})\n",
    "            texts.append(text)\n",
    "            i += 1\n",
    "        j += 1"
   ]
  }
 ],
 "metadata": {
  "kernelspec": {
   "display_name": "Python 3",
   "language": "python",
   "name": "python3"
  },
  "language_info": {
   "codemirror_mode": {
    "name": "ipython",
    "version": 3
   },
   "file_extension": ".py",
   "mimetype": "text/x-python",
   "name": "python",
   "nbconvert_exporter": "python",
   "pygments_lexer": "ipython3",
   "version": "3.11.7"
  }
 },
 "nbformat": 4,
 "nbformat_minor": 2
}
