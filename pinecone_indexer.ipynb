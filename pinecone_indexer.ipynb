{
 "cells": [
  {
   "cell_type": "code",
   "execution_count": 3,
   "metadata": {},
   "outputs": [
    {
     "name": "stdout",
     "output_type": "stream",
     "text": [
      "Note: you may need to restart the kernel to use updated packages.\n"
     ]
    }
   ],
   "source": [
    "%pip install --upgrade --quiet devtools"
   ]
  },
  {
   "cell_type": "code",
   "execution_count": 19,
   "metadata": {},
   "outputs": [
    {
     "data": {
      "text/plain": [
       "True"
      ]
     },
     "execution_count": 19,
     "metadata": {},
     "output_type": "execute_result"
    }
   ],
   "source": [
    "from dotenv import load_dotenv\n",
    "import json\n",
    "from pinecone import Pinecone\n",
    "from sentence_transformers import SentenceTransformer\n",
    "\n",
    "load_dotenv()"
   ]
  },
  {
   "cell_type": "code",
   "execution_count": 20,
   "metadata": {},
   "outputs": [],
   "source": [
    "model = SentenceTransformer(\"sentence-transformers/all-mpnet-base-v2\", device=\"mps\")"
   ]
  },
  {
   "cell_type": "code",
   "execution_count": 23,
   "metadata": {},
   "outputs": [
    {
     "name": "stdout",
     "output_type": "stream",
     "text": [
      "Iteration: 0. Upserted: ~0\n",
      "Iteration: 1000. Upserted: ~400\n",
      "Iteration: 2000. Upserted: ~700\n",
      "Iteration: 3000. Upserted: ~1200\n",
      "Iteration: 4000. Upserted: ~1800\n",
      "Iteration: 5000. Upserted: ~2200\n",
      "Iteration: 6000. Upserted: ~2700\n",
      "Iteration: 7000. Upserted: ~3300\n",
      "Iteration: 8000. Upserted: ~3700\n",
      "Iteration: 9000. Upserted: ~4200\n",
      "Iteration: 10000. Upserted: ~4600\n",
      "Iteration: 11000. Upserted: ~5200\n"
     ]
    }
   ],
   "source": [
    "filename = \"./chatbot_data_filtered_sa-V3.json\"\n",
    "\n",
    "pc = Pinecone()\n",
    "index = pc.Index(\"catalog-v3-768\")\n",
    "i = j = 0\n",
    "batch_size = 100\n",
    "upserted_count = 0\n",
    "texts, ids, embeds, metadata = [], [], [], []\n",
    "with open(filename) as file:\n",
    "    for line in file:\n",
    "        if j % 1000 == 0:\n",
    "            print(f\"Iteration: {j}. Upserted: ~{upserted_count}\")\n",
    "        if i % batch_size == 0 and texts:\n",
    "            embeds = model.encode(texts)\n",
    "            upserted_count += len(embeds)\n",
    "            index.upsert(vectors=zip(ids, embeds, metadata))\n",
    "            texts, ids, embeds, metadata = [], [], [], []\n",
    "        doc = json.loads(line.rstrip())\n",
    "        if (\n",
    "            doc.get(\"title_en\")\n",
    "            and doc.get(\"description\")\n",
    "            and doc.get(\"seller_price\")\n",
    "            and doc.get(\"image_url\")\n",
    "            and doc.get(\"product_url\")\n",
    "            and doc.get(\"is_returnable\")\n",
    "        ):\n",
    "            specs = doc.get(\"specifications\") or []\n",
    "            if not specs:\n",
    "                continue\n",
    "            specs_text = \"\"\n",
    "            specs = json.loads(specs)\n",
    "            for spec in specs:\n",
    "                k = spec.get(\"name\")\n",
    "                v = spec.get(\"value\")\n",
    "                specs_text += f\"{k} : {v}\" + \"\\n\"\n",
    "            ids.append(doc[\"offer_code\"])\n",
    "            title = doc.get(\"title_en\", \"Unavailable\")\n",
    "            offer_price = doc.get(\"seller_price\", \"Unavailable\")\n",
    "            description = doc.get(\"description\", \"Unavailable\")\n",
    "            highlights = doc.get(\"highlights\", \"Unavailable\")\n",
    "            is_returnable = doc.get(\"is_returnable\", \"Unavailable\")\n",
    "            rating = doc.get(\"product_rating\", \"Unavailable\")\n",
    "            warranty = doc.get(\"warranty\", \"Unavailable\")\n",
    "            on_deal = doc.get('deal_flag') or 0\n",
    "            m = {\n",
    "                \"sku\": doc.get(\"sku_config\"),\n",
    "                \"image_url\": doc.get(\"image_url\") + \"?width=240\",\n",
    "                \"product_url\": f\"https://www.{doc['product_url']}\",\n",
    "                \"title\": title\n",
    "            }\n",
    "            text = f\"\"\"\n",
    "                Title: {title}. \n",
    "                Price: {offer_price}. \n",
    "                Description: {description}. \n",
    "                Highlights: {highlights}. \n",
    "                is_returnable: {is_returnable}. \n",
    "                rating: {rating}. \n",
    "                warranty: {warranty}. \n",
    "                is_on_deal: {on_deal}. \n",
    "                specs: {specs_text}.\n",
    "            \"\"\".strip().replace(\"\\n\", \" \")\n",
    "            m[\"text\"] = text\n",
    "            metadata.append(m)\n",
    "            texts.append(text)\n",
    "            i += 1\n",
    "        j += 1"
   ]
  }
 ],
 "metadata": {
  "kernelspec": {
   "display_name": "Python 3",
   "language": "python",
   "name": "python3"
  },
  "language_info": {
   "codemirror_mode": {
    "name": "ipython",
    "version": 3
   },
   "file_extension": ".py",
   "mimetype": "text/x-python",
   "name": "python",
   "nbconvert_exporter": "python",
   "pygments_lexer": "ipython3",
   "version": "3.11.7"
  }
 },
 "nbformat": 4,
 "nbformat_minor": 2
}
